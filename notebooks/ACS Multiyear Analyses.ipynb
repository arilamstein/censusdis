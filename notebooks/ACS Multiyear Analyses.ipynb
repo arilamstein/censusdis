{
 "cells": [
  {
   "cell_type": "markdown",
   "metadata": {},
   "source": [
    "# ACS Multiyear Analyses\n",
    "\n",
    "The `multiyear` module provides three functions to facilitate analyzing ACS data over multiple years:\n",
    "  * download_multiyear\n",
    "  * graph_multiyear\n",
    "  * pct_change_multiyear\n",
    "\n",
    "These functions exist because the Census API (and by extension `censusdis.data.download`) only allows you to download one year of data at a time. \n",
    "\n",
    "Downloading data over multiple years is complicated because sometimes a variable's label changes meaning over years. `download_multiyear` warns you if this occurs.\n",
    "\n",
    "## download_multiyear\n",
    "\n",
    "The API for `download_multiyear` is designed to mirror that of `censusdis.data.download`. Here is an example of using it to download all ACS 1-year estimates for table B02001 (Race) for Nassau County, NY."
   ]
  },
  {
   "cell_type": "code",
   "execution_count": 1,
   "metadata": {},
   "outputs": [
    {
     "name": "stdout",
     "output_type": "stream",
     "text": [
      ".................."
     ]
    },
    {
     "data": {
      "text/html": [
       "<div>\n",
       "<style scoped>\n",
       "    .dataframe tbody tr th:only-of-type {\n",
       "        vertical-align: middle;\n",
       "    }\n",
       "\n",
       "    .dataframe tbody tr th {\n",
       "        vertical-align: top;\n",
       "    }\n",
       "\n",
       "    .dataframe thead th {\n",
       "        text-align: right;\n",
       "    }\n",
       "</style>\n",
       "<table border=\"1\" class=\"dataframe\">\n",
       "  <thead>\n",
       "    <tr style=\"text-align: right;\">\n",
       "      <th></th>\n",
       "      <th>Total</th>\n",
       "      <th>White alone</th>\n",
       "      <th>Black or African American alone</th>\n",
       "      <th>American Indian and Alaska Native alone</th>\n",
       "      <th>Asian alone</th>\n",
       "      <th>Native Hawaiian and Other Pacific Islander alone</th>\n",
       "      <th>Some Other Race alone</th>\n",
       "      <th>Two or More Races</th>\n",
       "      <th>Two races including Some Other Race</th>\n",
       "      <th>Two races excluding Some Other Race, and three or more races</th>\n",
       "      <th>Year</th>\n",
       "    </tr>\n",
       "  </thead>\n",
       "  <tbody>\n",
       "    <tr>\n",
       "      <th>0</th>\n",
       "      <td>1310076</td>\n",
       "      <td>993164</td>\n",
       "      <td>140878</td>\n",
       "      <td>2355</td>\n",
       "      <td>84132</td>\n",
       "      <td>0</td>\n",
       "      <td>75034</td>\n",
       "      <td>14513</td>\n",
       "      <td>3347</td>\n",
       "      <td>11166</td>\n",
       "      <td>2005</td>\n",
       "    </tr>\n",
       "    <tr>\n",
       "      <th>1</th>\n",
       "      <td>1325662</td>\n",
       "      <td>984965</td>\n",
       "      <td>143755</td>\n",
       "      <td>1767</td>\n",
       "      <td>91602</td>\n",
       "      <td>47</td>\n",
       "      <td>87759</td>\n",
       "      <td>15767</td>\n",
       "      <td>5914</td>\n",
       "      <td>9853</td>\n",
       "      <td>2006</td>\n",
       "    </tr>\n",
       "    <tr>\n",
       "      <th>2</th>\n",
       "      <td>1306533</td>\n",
       "      <td>979203</td>\n",
       "      <td>143689</td>\n",
       "      <td>1136</td>\n",
       "      <td>91584</td>\n",
       "      <td>0</td>\n",
       "      <td>70005</td>\n",
       "      <td>20916</td>\n",
       "      <td>5732</td>\n",
       "      <td>15184</td>\n",
       "      <td>2007</td>\n",
       "    </tr>\n",
       "    <tr>\n",
       "      <th>3</th>\n",
       "      <td>1351625</td>\n",
       "      <td>1021756</td>\n",
       "      <td>147949</td>\n",
       "      <td>2937</td>\n",
       "      <td>95709</td>\n",
       "      <td>51</td>\n",
       "      <td>59899</td>\n",
       "      <td>23324</td>\n",
       "      <td>5759</td>\n",
       "      <td>17565</td>\n",
       "      <td>2008</td>\n",
       "    </tr>\n",
       "    <tr>\n",
       "      <th>4</th>\n",
       "      <td>1357429</td>\n",
       "      <td>1010085</td>\n",
       "      <td>151411</td>\n",
       "      <td>1572</td>\n",
       "      <td>97627</td>\n",
       "      <td>211</td>\n",
       "      <td>76650</td>\n",
       "      <td>19873</td>\n",
       "      <td>3818</td>\n",
       "      <td>16055</td>\n",
       "      <td>2009</td>\n",
       "    </tr>\n",
       "    <tr>\n",
       "      <th>5</th>\n",
       "      <td>1341245</td>\n",
       "      <td>966449</td>\n",
       "      <td>146040</td>\n",
       "      <td>1578</td>\n",
       "      <td>106254</td>\n",
       "      <td>50</td>\n",
       "      <td>86507</td>\n",
       "      <td>34367</td>\n",
       "      <td>13688</td>\n",
       "      <td>20679</td>\n",
       "      <td>2010</td>\n",
       "    </tr>\n",
       "    <tr>\n",
       "      <th>6</th>\n",
       "      <td>1344436</td>\n",
       "      <td>961070</td>\n",
       "      <td>150682</td>\n",
       "      <td>3274</td>\n",
       "      <td>105175</td>\n",
       "      <td>74</td>\n",
       "      <td>92146</td>\n",
       "      <td>32015</td>\n",
       "      <td>12799</td>\n",
       "      <td>19216</td>\n",
       "      <td>2011</td>\n",
       "    </tr>\n",
       "    <tr>\n",
       "      <th>7</th>\n",
       "      <td>1349233</td>\n",
       "      <td>961151</td>\n",
       "      <td>153537</td>\n",
       "      <td>2590</td>\n",
       "      <td>107641</td>\n",
       "      <td>105</td>\n",
       "      <td>84805</td>\n",
       "      <td>39404</td>\n",
       "      <td>16293</td>\n",
       "      <td>23111</td>\n",
       "      <td>2012</td>\n",
       "    </tr>\n",
       "    <tr>\n",
       "      <th>8</th>\n",
       "      <td>1352146</td>\n",
       "      <td>941678</td>\n",
       "      <td>152023</td>\n",
       "      <td>4095</td>\n",
       "      <td>114533</td>\n",
       "      <td>296</td>\n",
       "      <td>81654</td>\n",
       "      <td>57867</td>\n",
       "      <td>24772</td>\n",
       "      <td>33095</td>\n",
       "      <td>2013</td>\n",
       "    </tr>\n",
       "    <tr>\n",
       "      <th>9</th>\n",
       "      <td>1358627</td>\n",
       "      <td>940760</td>\n",
       "      <td>157184</td>\n",
       "      <td>2740</td>\n",
       "      <td>118337</td>\n",
       "      <td>0</td>\n",
       "      <td>92109</td>\n",
       "      <td>47497</td>\n",
       "      <td>12148</td>\n",
       "      <td>35349</td>\n",
       "      <td>2014</td>\n",
       "    </tr>\n",
       "    <tr>\n",
       "      <th>10</th>\n",
       "      <td>1361350</td>\n",
       "      <td>934951</td>\n",
       "      <td>161031</td>\n",
       "      <td>2675</td>\n",
       "      <td>125694</td>\n",
       "      <td>116</td>\n",
       "      <td>96174</td>\n",
       "      <td>40709</td>\n",
       "      <td>13147</td>\n",
       "      <td>27562</td>\n",
       "      <td>2015</td>\n",
       "    </tr>\n",
       "    <tr>\n",
       "      <th>11</th>\n",
       "      <td>1361500</td>\n",
       "      <td>926594</td>\n",
       "      <td>158561</td>\n",
       "      <td>3420</td>\n",
       "      <td>127934</td>\n",
       "      <td>285</td>\n",
       "      <td>102363</td>\n",
       "      <td>42343</td>\n",
       "      <td>11992</td>\n",
       "      <td>30351</td>\n",
       "      <td>2016</td>\n",
       "    </tr>\n",
       "    <tr>\n",
       "      <th>12</th>\n",
       "      <td>1369514</td>\n",
       "      <td>916648</td>\n",
       "      <td>161012</td>\n",
       "      <td>3453</td>\n",
       "      <td>134515</td>\n",
       "      <td>100</td>\n",
       "      <td>109696</td>\n",
       "      <td>44090</td>\n",
       "      <td>12801</td>\n",
       "      <td>31289</td>\n",
       "      <td>2017</td>\n",
       "    </tr>\n",
       "    <tr>\n",
       "      <th>13</th>\n",
       "      <td>1358343</td>\n",
       "      <td>918655</td>\n",
       "      <td>162245</td>\n",
       "      <td>6223</td>\n",
       "      <td>135709</td>\n",
       "      <td>1093</td>\n",
       "      <td>97518</td>\n",
       "      <td>36900</td>\n",
       "      <td>7538</td>\n",
       "      <td>29362</td>\n",
       "      <td>2018</td>\n",
       "    </tr>\n",
       "    <tr>\n",
       "      <th>14</th>\n",
       "      <td>1356924</td>\n",
       "      <td>913426</td>\n",
       "      <td>159981</td>\n",
       "      <td>4833</td>\n",
       "      <td>140604</td>\n",
       "      <td>78</td>\n",
       "      <td>92513</td>\n",
       "      <td>45489</td>\n",
       "      <td>13535</td>\n",
       "      <td>31954</td>\n",
       "      <td>2019</td>\n",
       "    </tr>\n",
       "    <tr>\n",
       "      <th>15</th>\n",
       "      <td>1390907</td>\n",
       "      <td>813464</td>\n",
       "      <td>156895</td>\n",
       "      <td>3774</td>\n",
       "      <td>159286</td>\n",
       "      <td>295</td>\n",
       "      <td>119765</td>\n",
       "      <td>137428</td>\n",
       "      <td>104981</td>\n",
       "      <td>32447</td>\n",
       "      <td>2021</td>\n",
       "    </tr>\n",
       "    <tr>\n",
       "      <th>16</th>\n",
       "      <td>1383726</td>\n",
       "      <td>786767</td>\n",
       "      <td>160323</td>\n",
       "      <td>4015</td>\n",
       "      <td>173561</td>\n",
       "      <td>492</td>\n",
       "      <td>124773</td>\n",
       "      <td>133795</td>\n",
       "      <td>102799</td>\n",
       "      <td>30996</td>\n",
       "      <td>2022</td>\n",
       "    </tr>\n",
       "    <tr>\n",
       "      <th>17</th>\n",
       "      <td>1381715</td>\n",
       "      <td>773941</td>\n",
       "      <td>156129</td>\n",
       "      <td>2194</td>\n",
       "      <td>172055</td>\n",
       "      <td>110</td>\n",
       "      <td>121665</td>\n",
       "      <td>155621</td>\n",
       "      <td>116993</td>\n",
       "      <td>38628</td>\n",
       "      <td>2023</td>\n",
       "    </tr>\n",
       "  </tbody>\n",
       "</table>\n",
       "</div>"
      ],
      "text/plain": [
       "      Total  White alone  Black or African American alone  \\\n",
       "0   1310076       993164                           140878   \n",
       "1   1325662       984965                           143755   \n",
       "2   1306533       979203                           143689   \n",
       "3   1351625      1021756                           147949   \n",
       "4   1357429      1010085                           151411   \n",
       "5   1341245       966449                           146040   \n",
       "6   1344436       961070                           150682   \n",
       "7   1349233       961151                           153537   \n",
       "8   1352146       941678                           152023   \n",
       "9   1358627       940760                           157184   \n",
       "10  1361350       934951                           161031   \n",
       "11  1361500       926594                           158561   \n",
       "12  1369514       916648                           161012   \n",
       "13  1358343       918655                           162245   \n",
       "14  1356924       913426                           159981   \n",
       "15  1390907       813464                           156895   \n",
       "16  1383726       786767                           160323   \n",
       "17  1381715       773941                           156129   \n",
       "\n",
       "    American Indian and Alaska Native alone  Asian alone  \\\n",
       "0                                      2355        84132   \n",
       "1                                      1767        91602   \n",
       "2                                      1136        91584   \n",
       "3                                      2937        95709   \n",
       "4                                      1572        97627   \n",
       "5                                      1578       106254   \n",
       "6                                      3274       105175   \n",
       "7                                      2590       107641   \n",
       "8                                      4095       114533   \n",
       "9                                      2740       118337   \n",
       "10                                     2675       125694   \n",
       "11                                     3420       127934   \n",
       "12                                     3453       134515   \n",
       "13                                     6223       135709   \n",
       "14                                     4833       140604   \n",
       "15                                     3774       159286   \n",
       "16                                     4015       173561   \n",
       "17                                     2194       172055   \n",
       "\n",
       "    Native Hawaiian and Other Pacific Islander alone  Some Other Race alone  \\\n",
       "0                                                  0                  75034   \n",
       "1                                                 47                  87759   \n",
       "2                                                  0                  70005   \n",
       "3                                                 51                  59899   \n",
       "4                                                211                  76650   \n",
       "5                                                 50                  86507   \n",
       "6                                                 74                  92146   \n",
       "7                                                105                  84805   \n",
       "8                                                296                  81654   \n",
       "9                                                  0                  92109   \n",
       "10                                               116                  96174   \n",
       "11                                               285                 102363   \n",
       "12                                               100                 109696   \n",
       "13                                              1093                  97518   \n",
       "14                                                78                  92513   \n",
       "15                                               295                 119765   \n",
       "16                                               492                 124773   \n",
       "17                                               110                 121665   \n",
       "\n",
       "    Two or More Races  Two races including Some Other Race  \\\n",
       "0               14513                                 3347   \n",
       "1               15767                                 5914   \n",
       "2               20916                                 5732   \n",
       "3               23324                                 5759   \n",
       "4               19873                                 3818   \n",
       "5               34367                                13688   \n",
       "6               32015                                12799   \n",
       "7               39404                                16293   \n",
       "8               57867                                24772   \n",
       "9               47497                                12148   \n",
       "10              40709                                13147   \n",
       "11              42343                                11992   \n",
       "12              44090                                12801   \n",
       "13              36900                                 7538   \n",
       "14              45489                                13535   \n",
       "15             137428                               104981   \n",
       "16             133795                               102799   \n",
       "17             155621                               116993   \n",
       "\n",
       "    Two races excluding Some Other Race, and three or more races  Year  \n",
       "0                                               11166             2005  \n",
       "1                                                9853             2006  \n",
       "2                                               15184             2007  \n",
       "3                                               17565             2008  \n",
       "4                                               16055             2009  \n",
       "5                                               20679             2010  \n",
       "6                                               19216             2011  \n",
       "7                                               23111             2012  \n",
       "8                                               33095             2013  \n",
       "9                                               35349             2014  \n",
       "10                                              27562             2015  \n",
       "11                                              30351             2016  \n",
       "12                                              31289             2017  \n",
       "13                                              29362             2018  \n",
       "14                                              31954             2019  \n",
       "15                                              32447             2021  \n",
       "16                                              30996             2022  \n",
       "17                                              38628             2023  "
      ]
     },
     "execution_count": 1,
     "metadata": {},
     "output_type": "execute_result"
    }
   ],
   "source": [
    "from censusdis.states import NY\n",
    "from censusdis.counties.new_york import NASSAU\n",
    "from censusdis.datasets import ACS1\n",
    "\n",
    "from censusdis.multiyear import download_multiyear\n",
    "\n",
    "# In 2020 there were no 1-year estimates published due to Covid-19\n",
    "vintages = [year for year in range(2005, 2024) if year != 2020]\n",
    "\n",
    "df = download_multiyear(\n",
    "    dataset=ACS1, vintages=vintages, group=\"B02001\", state=NY, county=NASSAU\n",
    ")\n",
    "df"
   ]
  },
  {
   "cell_type": "markdown",
   "metadata": {},
   "source": [
    "Note that `download_multiyear` has some default parameters.\n",
    "  * `rename_vars=True`. If True then rename the columns from variables to labels. The labels from the last year are used. Only the last portion of the label (`!!` is a separator) is used and any trailing `:` is dropped.\n",
    "  * `drop_cols=True`. If True then drops columns which do not contain survey data. This tends to be geographic metadata.\n",
    "  * `prompt=True`. download_multiyear emits a warning if a variable’s label changed during the selected years. If prompt is True then users are also prompted to confirm that they want to continue with the download despite the label mismatch. In order to reduce false positives `:` is removed when doing the comparison (e.g. “Total:” and “Total” are considered identical).\n",
    "\n",
    "Setting `rename_vars=False` and `drop_cols=False` will result in output similar to what you would get by calling `censusdis.download` multiple times and manually concatenating the output."
   ]
  },
  {
   "cell_type": "markdown",
   "metadata": {},
   "source": [
    "## graph_multiyear\n"
   ]
  },
  {
   "cell_type": "markdown",
   "metadata": {},
   "source": [
    "We can use `graph_multiyear` to graph the output of `download_multiyear`. The dataframe has 11 columns, and most of the values are very small. So let's just graph the four columns with the largest final values."
   ]
  },
  {
   "cell_type": "code",
   "execution_count": 2,
   "metadata": {},
   "outputs": [
    {
     "data": {
      "application/vnd.plotly.v1+json": {
       "config": {
        "plotlyServerURL": "https://plot.ly"
       },
       "data": [
        {
         "hovertemplate": "Year: %{x}<br>White alone: %{y:,}<extra></extra>",
         "line": {
          "color": "#E69F00"
         },
         "mode": "lines+markers",
         "name": "White alone",
         "type": "scatter",
         "x": {
          "bdata": "1QfWB9cH2AfZB9oH2wfcB90H3gffB+AH4QfiB+MH5QfmB+cH",
          "dtype": "i2"
         },
         "y": {
          "bdata": "jCcPAIUHDwAD8Q4APJcPAKVpDwAxvw4ALqoOAH+qDgBuXg4A2FoOACdEDgCCIw4AqPwNAH8EDgAS8A0AmGkMAE8BDAA1zwsA",
          "dtype": "i4"
         }
        },
        {
         "hovertemplate": "Year: %{x}<br>Black or African American alone: %{y:,}<extra></extra>",
         "line": {
          "color": "#56B4E9"
         },
         "mode": "lines+markers",
         "name": "Black or African American alone",
         "type": "scatter",
         "x": {
          "bdata": "1QfWB9cH2AfZB9oH2wfcB90H3gffB+AH4QfiB+MH5QfmB+cH",
          "dtype": "i2"
         },
         "y": {
          "bdata": "TiYCAIsxAgBJMQIA7UECAHNPAgB4OgIAmkwCAMFXAgDXUQIAAGYCAAd1AgBhawIA9HQCAMV5AgDtcAIA32QCAENyAgDhYQIA",
          "dtype": "i4"
         }
        },
        {
         "hovertemplate": "Year: %{x}<br>Asian alone: %{y:,}<extra></extra>",
         "line": {
          "color": "#009E73"
         },
         "mode": "lines+markers",
         "name": "Asian alone",
         "type": "scatter",
         "x": {
          "bdata": "1QfWB9cH2AfZB9oH2wfcB90H3gffB+AH4QfiB+MH5QfmB+cH",
          "dtype": "i2"
         },
         "y": {
          "bdata": "pEgBANJlAQDAZQEA3XUBAFt9AQAOnwEA15oBAHmkAQBlvwEAQc4BAP7qAQC+8wEAcw0CAB0SAgA8JQIANm4CAPmlAgAXoAIA",
          "dtype": "i4"
         }
        },
        {
         "hovertemplate": "Year: %{x}<br>Two or More Races: %{y:,}<extra></extra>",
         "line": {
          "color": "#F0E442"
         },
         "mode": "lines+markers",
         "name": "Two or More Races",
         "type": "scatter",
         "x": {
          "bdata": "1QfWB9cH2AfZB9oH2wfcB90H3gffB+AH4QfiB+MH5QfmB+cH",
          "dtype": "i2"
         },
         "y": {
          "bdata": "sTgAAJc9AAC0UQAAHFsAAKFNAAA/hgAAD30AAOyZAAAL4gAAibkAAAWfAABnpQAAOqwAACSQAACxsQAA1BgCAKMKAgDlXwIA",
          "dtype": "i4"
         }
        }
       ],
       "layout": {
        "template": {
         "data": {
          "bar": [
           {
            "error_x": {
             "color": "#2a3f5f"
            },
            "error_y": {
             "color": "#2a3f5f"
            },
            "marker": {
             "line": {
              "color": "#E5ECF6",
              "width": 0.5
             },
             "pattern": {
              "fillmode": "overlay",
              "size": 10,
              "solidity": 0.2
             }
            },
            "type": "bar"
           }
          ],
          "barpolar": [
           {
            "marker": {
             "line": {
              "color": "#E5ECF6",
              "width": 0.5
             },
             "pattern": {
              "fillmode": "overlay",
              "size": 10,
              "solidity": 0.2
             }
            },
            "type": "barpolar"
           }
          ],
          "carpet": [
           {
            "aaxis": {
             "endlinecolor": "#2a3f5f",
             "gridcolor": "white",
             "linecolor": "white",
             "minorgridcolor": "white",
             "startlinecolor": "#2a3f5f"
            },
            "baxis": {
             "endlinecolor": "#2a3f5f",
             "gridcolor": "white",
             "linecolor": "white",
             "minorgridcolor": "white",
             "startlinecolor": "#2a3f5f"
            },
            "type": "carpet"
           }
          ],
          "choropleth": [
           {
            "colorbar": {
             "outlinewidth": 0,
             "ticks": ""
            },
            "type": "choropleth"
           }
          ],
          "contour": [
           {
            "colorbar": {
             "outlinewidth": 0,
             "ticks": ""
            },
            "colorscale": [
             [
              0,
              "#0d0887"
             ],
             [
              0.1111111111111111,
              "#46039f"
             ],
             [
              0.2222222222222222,
              "#7201a8"
             ],
             [
              0.3333333333333333,
              "#9c179e"
             ],
             [
              0.4444444444444444,
              "#bd3786"
             ],
             [
              0.5555555555555556,
              "#d8576b"
             ],
             [
              0.6666666666666666,
              "#ed7953"
             ],
             [
              0.7777777777777778,
              "#fb9f3a"
             ],
             [
              0.8888888888888888,
              "#fdca26"
             ],
             [
              1,
              "#f0f921"
             ]
            ],
            "type": "contour"
           }
          ],
          "contourcarpet": [
           {
            "colorbar": {
             "outlinewidth": 0,
             "ticks": ""
            },
            "type": "contourcarpet"
           }
          ],
          "heatmap": [
           {
            "colorbar": {
             "outlinewidth": 0,
             "ticks": ""
            },
            "colorscale": [
             [
              0,
              "#0d0887"
             ],
             [
              0.1111111111111111,
              "#46039f"
             ],
             [
              0.2222222222222222,
              "#7201a8"
             ],
             [
              0.3333333333333333,
              "#9c179e"
             ],
             [
              0.4444444444444444,
              "#bd3786"
             ],
             [
              0.5555555555555556,
              "#d8576b"
             ],
             [
              0.6666666666666666,
              "#ed7953"
             ],
             [
              0.7777777777777778,
              "#fb9f3a"
             ],
             [
              0.8888888888888888,
              "#fdca26"
             ],
             [
              1,
              "#f0f921"
             ]
            ],
            "type": "heatmap"
           }
          ],
          "histogram": [
           {
            "marker": {
             "pattern": {
              "fillmode": "overlay",
              "size": 10,
              "solidity": 0.2
             }
            },
            "type": "histogram"
           }
          ],
          "histogram2d": [
           {
            "colorbar": {
             "outlinewidth": 0,
             "ticks": ""
            },
            "colorscale": [
             [
              0,
              "#0d0887"
             ],
             [
              0.1111111111111111,
              "#46039f"
             ],
             [
              0.2222222222222222,
              "#7201a8"
             ],
             [
              0.3333333333333333,
              "#9c179e"
             ],
             [
              0.4444444444444444,
              "#bd3786"
             ],
             [
              0.5555555555555556,
              "#d8576b"
             ],
             [
              0.6666666666666666,
              "#ed7953"
             ],
             [
              0.7777777777777778,
              "#fb9f3a"
             ],
             [
              0.8888888888888888,
              "#fdca26"
             ],
             [
              1,
              "#f0f921"
             ]
            ],
            "type": "histogram2d"
           }
          ],
          "histogram2dcontour": [
           {
            "colorbar": {
             "outlinewidth": 0,
             "ticks": ""
            },
            "colorscale": [
             [
              0,
              "#0d0887"
             ],
             [
              0.1111111111111111,
              "#46039f"
             ],
             [
              0.2222222222222222,
              "#7201a8"
             ],
             [
              0.3333333333333333,
              "#9c179e"
             ],
             [
              0.4444444444444444,
              "#bd3786"
             ],
             [
              0.5555555555555556,
              "#d8576b"
             ],
             [
              0.6666666666666666,
              "#ed7953"
             ],
             [
              0.7777777777777778,
              "#fb9f3a"
             ],
             [
              0.8888888888888888,
              "#fdca26"
             ],
             [
              1,
              "#f0f921"
             ]
            ],
            "type": "histogram2dcontour"
           }
          ],
          "mesh3d": [
           {
            "colorbar": {
             "outlinewidth": 0,
             "ticks": ""
            },
            "type": "mesh3d"
           }
          ],
          "parcoords": [
           {
            "line": {
             "colorbar": {
              "outlinewidth": 0,
              "ticks": ""
             }
            },
            "type": "parcoords"
           }
          ],
          "pie": [
           {
            "automargin": true,
            "type": "pie"
           }
          ],
          "scatter": [
           {
            "fillpattern": {
             "fillmode": "overlay",
             "size": 10,
             "solidity": 0.2
            },
            "type": "scatter"
           }
          ],
          "scatter3d": [
           {
            "line": {
             "colorbar": {
              "outlinewidth": 0,
              "ticks": ""
             }
            },
            "marker": {
             "colorbar": {
              "outlinewidth": 0,
              "ticks": ""
             }
            },
            "type": "scatter3d"
           }
          ],
          "scattercarpet": [
           {
            "marker": {
             "colorbar": {
              "outlinewidth": 0,
              "ticks": ""
             }
            },
            "type": "scattercarpet"
           }
          ],
          "scattergeo": [
           {
            "marker": {
             "colorbar": {
              "outlinewidth": 0,
              "ticks": ""
             }
            },
            "type": "scattergeo"
           }
          ],
          "scattergl": [
           {
            "marker": {
             "colorbar": {
              "outlinewidth": 0,
              "ticks": ""
             }
            },
            "type": "scattergl"
           }
          ],
          "scattermap": [
           {
            "marker": {
             "colorbar": {
              "outlinewidth": 0,
              "ticks": ""
             }
            },
            "type": "scattermap"
           }
          ],
          "scattermapbox": [
           {
            "marker": {
             "colorbar": {
              "outlinewidth": 0,
              "ticks": ""
             }
            },
            "type": "scattermapbox"
           }
          ],
          "scatterpolar": [
           {
            "marker": {
             "colorbar": {
              "outlinewidth": 0,
              "ticks": ""
             }
            },
            "type": "scatterpolar"
           }
          ],
          "scatterpolargl": [
           {
            "marker": {
             "colorbar": {
              "outlinewidth": 0,
              "ticks": ""
             }
            },
            "type": "scatterpolargl"
           }
          ],
          "scatterternary": [
           {
            "marker": {
             "colorbar": {
              "outlinewidth": 0,
              "ticks": ""
             }
            },
            "type": "scatterternary"
           }
          ],
          "surface": [
           {
            "colorbar": {
             "outlinewidth": 0,
             "ticks": ""
            },
            "colorscale": [
             [
              0,
              "#0d0887"
             ],
             [
              0.1111111111111111,
              "#46039f"
             ],
             [
              0.2222222222222222,
              "#7201a8"
             ],
             [
              0.3333333333333333,
              "#9c179e"
             ],
             [
              0.4444444444444444,
              "#bd3786"
             ],
             [
              0.5555555555555556,
              "#d8576b"
             ],
             [
              0.6666666666666666,
              "#ed7953"
             ],
             [
              0.7777777777777778,
              "#fb9f3a"
             ],
             [
              0.8888888888888888,
              "#fdca26"
             ],
             [
              1,
              "#f0f921"
             ]
            ],
            "type": "surface"
           }
          ],
          "table": [
           {
            "cells": {
             "fill": {
              "color": "#EBF0F8"
             },
             "line": {
              "color": "white"
             }
            },
            "header": {
             "fill": {
              "color": "#C8D4E3"
             },
             "line": {
              "color": "white"
             }
            },
            "type": "table"
           }
          ]
         },
         "layout": {
          "annotationdefaults": {
           "arrowcolor": "#2a3f5f",
           "arrowhead": 0,
           "arrowwidth": 1
          },
          "autotypenumbers": "strict",
          "coloraxis": {
           "colorbar": {
            "outlinewidth": 0,
            "ticks": ""
           }
          },
          "colorscale": {
           "diverging": [
            [
             0,
             "#8e0152"
            ],
            [
             0.1,
             "#c51b7d"
            ],
            [
             0.2,
             "#de77ae"
            ],
            [
             0.3,
             "#f1b6da"
            ],
            [
             0.4,
             "#fde0ef"
            ],
            [
             0.5,
             "#f7f7f7"
            ],
            [
             0.6,
             "#e6f5d0"
            ],
            [
             0.7,
             "#b8e186"
            ],
            [
             0.8,
             "#7fbc41"
            ],
            [
             0.9,
             "#4d9221"
            ],
            [
             1,
             "#276419"
            ]
           ],
           "sequential": [
            [
             0,
             "#0d0887"
            ],
            [
             0.1111111111111111,
             "#46039f"
            ],
            [
             0.2222222222222222,
             "#7201a8"
            ],
            [
             0.3333333333333333,
             "#9c179e"
            ],
            [
             0.4444444444444444,
             "#bd3786"
            ],
            [
             0.5555555555555556,
             "#d8576b"
            ],
            [
             0.6666666666666666,
             "#ed7953"
            ],
            [
             0.7777777777777778,
             "#fb9f3a"
            ],
            [
             0.8888888888888888,
             "#fdca26"
            ],
            [
             1,
             "#f0f921"
            ]
           ],
           "sequentialminus": [
            [
             0,
             "#0d0887"
            ],
            [
             0.1111111111111111,
             "#46039f"
            ],
            [
             0.2222222222222222,
             "#7201a8"
            ],
            [
             0.3333333333333333,
             "#9c179e"
            ],
            [
             0.4444444444444444,
             "#bd3786"
            ],
            [
             0.5555555555555556,
             "#d8576b"
            ],
            [
             0.6666666666666666,
             "#ed7953"
            ],
            [
             0.7777777777777778,
             "#fb9f3a"
            ],
            [
             0.8888888888888888,
             "#fdca26"
            ],
            [
             1,
             "#f0f921"
            ]
           ]
          },
          "colorway": [
           "#636efa",
           "#EF553B",
           "#00cc96",
           "#ab63fa",
           "#FFA15A",
           "#19d3f3",
           "#FF6692",
           "#B6E880",
           "#FF97FF",
           "#FECB52"
          ],
          "font": {
           "color": "#2a3f5f"
          },
          "geo": {
           "bgcolor": "white",
           "lakecolor": "white",
           "landcolor": "#E5ECF6",
           "showlakes": true,
           "showland": true,
           "subunitcolor": "white"
          },
          "hoverlabel": {
           "align": "left"
          },
          "hovermode": "closest",
          "mapbox": {
           "style": "light"
          },
          "paper_bgcolor": "white",
          "plot_bgcolor": "#E5ECF6",
          "polar": {
           "angularaxis": {
            "gridcolor": "white",
            "linecolor": "white",
            "ticks": ""
           },
           "bgcolor": "#E5ECF6",
           "radialaxis": {
            "gridcolor": "white",
            "linecolor": "white",
            "ticks": ""
           }
          },
          "scene": {
           "xaxis": {
            "backgroundcolor": "#E5ECF6",
            "gridcolor": "white",
            "gridwidth": 2,
            "linecolor": "white",
            "showbackground": true,
            "ticks": "",
            "zerolinecolor": "white"
           },
           "yaxis": {
            "backgroundcolor": "#E5ECF6",
            "gridcolor": "white",
            "gridwidth": 2,
            "linecolor": "white",
            "showbackground": true,
            "ticks": "",
            "zerolinecolor": "white"
           },
           "zaxis": {
            "backgroundcolor": "#E5ECF6",
            "gridcolor": "white",
            "gridwidth": 2,
            "linecolor": "white",
            "showbackground": true,
            "ticks": "",
            "zerolinecolor": "white"
           }
          },
          "shapedefaults": {
           "line": {
            "color": "#2a3f5f"
           }
          },
          "ternary": {
           "aaxis": {
            "gridcolor": "white",
            "linecolor": "white",
            "ticks": ""
           },
           "baxis": {
            "gridcolor": "white",
            "linecolor": "white",
            "ticks": ""
           },
           "bgcolor": "#E5ECF6",
           "caxis": {
            "gridcolor": "white",
            "linecolor": "white",
            "ticks": ""
           }
          },
          "title": {
           "x": 0.05
          },
          "xaxis": {
           "automargin": true,
           "gridcolor": "white",
           "linecolor": "white",
           "ticks": "",
           "title": {
            "standoff": 15
           },
           "zerolinecolor": "white",
           "zerolinewidth": 2
          },
          "yaxis": {
           "automargin": true,
           "gridcolor": "white",
           "linecolor": "white",
           "ticks": "",
           "title": {
            "standoff": 15
           },
           "zerolinecolor": "white",
           "zerolinewidth": 2
          }
         }
        },
        "title": {
         "text": "Population by Race<br>Nassau County, NY"
        },
        "xaxis": {
         "tickmode": "array",
         "ticktext": [
          "2005",
          "2006",
          "2007",
          "2008",
          "2009",
          "2010",
          "2011",
          "2012",
          "2013",
          "2014",
          "2015",
          "2016",
          "2017",
          "2018",
          "2019",
          "2021",
          "2022",
          "2023"
         ],
         "tickvals": {
          "bdata": "1QfWB9cH2AfZB9oH2wfcB90H3gffB+AH4QfiB+MH5QfmB+cH",
          "dtype": "i2"
         },
         "title": {
          "text": "Year"
         }
        },
        "yaxis": {
         "title": {
          "text": "Population"
         }
        }
       }
      },
      "image/png": "[encoded data removed]"
     },
     "metadata": {},
     "output_type": "display_data"
    }
   ],
   "source": [
    "from censusdis.multiyear import graph_multiyear\n",
    "\n",
    "graph_multiyear(\n",
    "    df,\n",
    "    title=\"Population by Race<br>Nassau County, NY\",\n",
    "    yaxis_title=\"Population\",\n",
    "    y_cols=[\n",
    "        \"White alone\",\n",
    "        \"Black or African American alone\",\n",
    "        \"Asian alone\",\n",
    "        \"Two or More Races\",\n",
    "    ],\n",
    ")"
   ]
  },
  {
   "cell_type": "markdown",
   "metadata": {},
   "source": [
    "One thing that stands out about this graph are the changes between 2019 and 2021. During that period there was a dramatic decrease in the \"White alone\" population, and a dramatic increase in the \"Two or More Races\" population. \n",
    "\n",
    "## pct_change_multiyear\n",
    "\n",
    "The above graph shows us raw population accounts. Another way to look at the data is as a year-over-year percent change. The function `pct_change_multiyear` does this for us."
   ]
  },
  {
   "cell_type": "code",
   "execution_count": 3,
   "metadata": {},
   "outputs": [
    {
     "data": {
      "text/html": [
       "<div>\n",
       "<style scoped>\n",
       "    .dataframe tbody tr th:only-of-type {\n",
       "        vertical-align: middle;\n",
       "    }\n",
       "\n",
       "    .dataframe tbody tr th {\n",
       "        vertical-align: top;\n",
       "    }\n",
       "\n",
       "    .dataframe thead th {\n",
       "        text-align: right;\n",
       "    }\n",
       "</style>\n",
       "<table border=\"1\" class=\"dataframe\">\n",
       "  <thead>\n",
       "    <tr style=\"text-align: right;\">\n",
       "      <th></th>\n",
       "      <th>Total</th>\n",
       "      <th>White alone</th>\n",
       "      <th>Black or African American alone</th>\n",
       "      <th>American Indian and Alaska Native alone</th>\n",
       "      <th>Asian alone</th>\n",
       "      <th>Native Hawaiian and Other Pacific Islander alone</th>\n",
       "      <th>Some Other Race alone</th>\n",
       "      <th>Two or More Races</th>\n",
       "      <th>Two races including Some Other Race</th>\n",
       "      <th>Two races excluding Some Other Race, and three or more races</th>\n",
       "      <th>Year</th>\n",
       "    </tr>\n",
       "  </thead>\n",
       "  <tbody>\n",
       "    <tr>\n",
       "      <th>0</th>\n",
       "      <td>NaN</td>\n",
       "      <td>NaN</td>\n",
       "      <td>NaN</td>\n",
       "      <td>NaN</td>\n",
       "      <td>NaN</td>\n",
       "      <td>NaN</td>\n",
       "      <td>NaN</td>\n",
       "      <td>NaN</td>\n",
       "      <td>NaN</td>\n",
       "      <td>NaN</td>\n",
       "      <td>2005</td>\n",
       "    </tr>\n",
       "    <tr>\n",
       "      <th>1</th>\n",
       "      <td>1.2</td>\n",
       "      <td>-0.8</td>\n",
       "      <td>2.0</td>\n",
       "      <td>-25.0</td>\n",
       "      <td>8.9</td>\n",
       "      <td>inf</td>\n",
       "      <td>17.0</td>\n",
       "      <td>8.6</td>\n",
       "      <td>76.7</td>\n",
       "      <td>-11.8</td>\n",
       "      <td>2006</td>\n",
       "    </tr>\n",
       "    <tr>\n",
       "      <th>2</th>\n",
       "      <td>-1.4</td>\n",
       "      <td>-0.6</td>\n",
       "      <td>-0.0</td>\n",
       "      <td>-35.7</td>\n",
       "      <td>-0.0</td>\n",
       "      <td>-100.0</td>\n",
       "      <td>-20.2</td>\n",
       "      <td>32.7</td>\n",
       "      <td>-3.1</td>\n",
       "      <td>54.1</td>\n",
       "      <td>2007</td>\n",
       "    </tr>\n",
       "    <tr>\n",
       "      <th>3</th>\n",
       "      <td>3.5</td>\n",
       "      <td>4.3</td>\n",
       "      <td>3.0</td>\n",
       "      <td>158.5</td>\n",
       "      <td>4.5</td>\n",
       "      <td>inf</td>\n",
       "      <td>-14.4</td>\n",
       "      <td>11.5</td>\n",
       "      <td>0.5</td>\n",
       "      <td>15.7</td>\n",
       "      <td>2008</td>\n",
       "    </tr>\n",
       "    <tr>\n",
       "      <th>4</th>\n",
       "      <td>0.4</td>\n",
       "      <td>-1.1</td>\n",
       "      <td>2.3</td>\n",
       "      <td>-46.5</td>\n",
       "      <td>2.0</td>\n",
       "      <td>313.7</td>\n",
       "      <td>28.0</td>\n",
       "      <td>-14.8</td>\n",
       "      <td>-33.7</td>\n",
       "      <td>-8.6</td>\n",
       "      <td>2009</td>\n",
       "    </tr>\n",
       "    <tr>\n",
       "      <th>5</th>\n",
       "      <td>-1.2</td>\n",
       "      <td>-4.3</td>\n",
       "      <td>-3.5</td>\n",
       "      <td>0.4</td>\n",
       "      <td>8.8</td>\n",
       "      <td>-76.3</td>\n",
       "      <td>12.9</td>\n",
       "      <td>72.9</td>\n",
       "      <td>258.5</td>\n",
       "      <td>28.8</td>\n",
       "      <td>2010</td>\n",
       "    </tr>\n",
       "    <tr>\n",
       "      <th>6</th>\n",
       "      <td>0.2</td>\n",
       "      <td>-0.6</td>\n",
       "      <td>3.2</td>\n",
       "      <td>107.5</td>\n",
       "      <td>-1.0</td>\n",
       "      <td>48.0</td>\n",
       "      <td>6.5</td>\n",
       "      <td>-6.8</td>\n",
       "      <td>-6.5</td>\n",
       "      <td>-7.1</td>\n",
       "      <td>2011</td>\n",
       "    </tr>\n",
       "    <tr>\n",
       "      <th>7</th>\n",
       "      <td>0.4</td>\n",
       "      <td>0.0</td>\n",
       "      <td>1.9</td>\n",
       "      <td>-20.9</td>\n",
       "      <td>2.3</td>\n",
       "      <td>41.9</td>\n",
       "      <td>-8.0</td>\n",
       "      <td>23.1</td>\n",
       "      <td>27.3</td>\n",
       "      <td>20.3</td>\n",
       "      <td>2012</td>\n",
       "    </tr>\n",
       "    <tr>\n",
       "      <th>8</th>\n",
       "      <td>0.2</td>\n",
       "      <td>-2.0</td>\n",
       "      <td>-1.0</td>\n",
       "      <td>58.1</td>\n",
       "      <td>6.4</td>\n",
       "      <td>181.9</td>\n",
       "      <td>-3.7</td>\n",
       "      <td>46.9</td>\n",
       "      <td>52.0</td>\n",
       "      <td>43.2</td>\n",
       "      <td>2013</td>\n",
       "    </tr>\n",
       "    <tr>\n",
       "      <th>9</th>\n",
       "      <td>0.5</td>\n",
       "      <td>-0.1</td>\n",
       "      <td>3.4</td>\n",
       "      <td>-33.1</td>\n",
       "      <td>3.3</td>\n",
       "      <td>-100.0</td>\n",
       "      <td>12.8</td>\n",
       "      <td>-17.9</td>\n",
       "      <td>-51.0</td>\n",
       "      <td>6.8</td>\n",
       "      <td>2014</td>\n",
       "    </tr>\n",
       "    <tr>\n",
       "      <th>10</th>\n",
       "      <td>0.2</td>\n",
       "      <td>-0.6</td>\n",
       "      <td>2.4</td>\n",
       "      <td>-2.4</td>\n",
       "      <td>6.2</td>\n",
       "      <td>inf</td>\n",
       "      <td>4.4</td>\n",
       "      <td>-14.3</td>\n",
       "      <td>8.2</td>\n",
       "      <td>-22.0</td>\n",
       "      <td>2015</td>\n",
       "    </tr>\n",
       "    <tr>\n",
       "      <th>11</th>\n",
       "      <td>0.0</td>\n",
       "      <td>-0.9</td>\n",
       "      <td>-1.5</td>\n",
       "      <td>27.9</td>\n",
       "      <td>1.8</td>\n",
       "      <td>145.7</td>\n",
       "      <td>6.4</td>\n",
       "      <td>4.0</td>\n",
       "      <td>-8.8</td>\n",
       "      <td>10.1</td>\n",
       "      <td>2016</td>\n",
       "    </tr>\n",
       "    <tr>\n",
       "      <th>12</th>\n",
       "      <td>0.6</td>\n",
       "      <td>-1.1</td>\n",
       "      <td>1.5</td>\n",
       "      <td>1.0</td>\n",
       "      <td>5.1</td>\n",
       "      <td>-64.9</td>\n",
       "      <td>7.2</td>\n",
       "      <td>4.1</td>\n",
       "      <td>6.7</td>\n",
       "      <td>3.1</td>\n",
       "      <td>2017</td>\n",
       "    </tr>\n",
       "    <tr>\n",
       "      <th>13</th>\n",
       "      <td>-0.8</td>\n",
       "      <td>0.2</td>\n",
       "      <td>0.8</td>\n",
       "      <td>80.2</td>\n",
       "      <td>0.9</td>\n",
       "      <td>993.0</td>\n",
       "      <td>-11.1</td>\n",
       "      <td>-16.3</td>\n",
       "      <td>-41.1</td>\n",
       "      <td>-6.2</td>\n",
       "      <td>2018</td>\n",
       "    </tr>\n",
       "    <tr>\n",
       "      <th>14</th>\n",
       "      <td>-0.1</td>\n",
       "      <td>-0.6</td>\n",
       "      <td>-1.4</td>\n",
       "      <td>-22.3</td>\n",
       "      <td>3.6</td>\n",
       "      <td>-92.9</td>\n",
       "      <td>-5.1</td>\n",
       "      <td>23.3</td>\n",
       "      <td>79.6</td>\n",
       "      <td>8.8</td>\n",
       "      <td>2019</td>\n",
       "    </tr>\n",
       "    <tr>\n",
       "      <th>15</th>\n",
       "      <td>2.5</td>\n",
       "      <td>-10.9</td>\n",
       "      <td>-1.9</td>\n",
       "      <td>-21.9</td>\n",
       "      <td>13.3</td>\n",
       "      <td>278.2</td>\n",
       "      <td>29.5</td>\n",
       "      <td>202.1</td>\n",
       "      <td>675.6</td>\n",
       "      <td>1.5</td>\n",
       "      <td>2021</td>\n",
       "    </tr>\n",
       "    <tr>\n",
       "      <th>16</th>\n",
       "      <td>-0.5</td>\n",
       "      <td>-3.3</td>\n",
       "      <td>2.2</td>\n",
       "      <td>6.4</td>\n",
       "      <td>9.0</td>\n",
       "      <td>66.8</td>\n",
       "      <td>4.2</td>\n",
       "      <td>-2.6</td>\n",
       "      <td>-2.1</td>\n",
       "      <td>-4.5</td>\n",
       "      <td>2022</td>\n",
       "    </tr>\n",
       "    <tr>\n",
       "      <th>17</th>\n",
       "      <td>-0.1</td>\n",
       "      <td>-1.6</td>\n",
       "      <td>-2.6</td>\n",
       "      <td>-45.4</td>\n",
       "      <td>-0.9</td>\n",
       "      <td>-77.6</td>\n",
       "      <td>-2.5</td>\n",
       "      <td>16.3</td>\n",
       "      <td>13.8</td>\n",
       "      <td>24.6</td>\n",
       "      <td>2023</td>\n",
       "    </tr>\n",
       "  </tbody>\n",
       "</table>\n",
       "</div>"
      ],
      "text/plain": [
       "    Total  White alone  Black or African American alone  \\\n",
       "0     NaN          NaN                              NaN   \n",
       "1     1.2         -0.8                              2.0   \n",
       "2    -1.4         -0.6                             -0.0   \n",
       "3     3.5          4.3                              3.0   \n",
       "4     0.4         -1.1                              2.3   \n",
       "5    -1.2         -4.3                             -3.5   \n",
       "6     0.2         -0.6                              3.2   \n",
       "7     0.4          0.0                              1.9   \n",
       "8     0.2         -2.0                             -1.0   \n",
       "9     0.5         -0.1                              3.4   \n",
       "10    0.2         -0.6                              2.4   \n",
       "11    0.0         -0.9                             -1.5   \n",
       "12    0.6         -1.1                              1.5   \n",
       "13   -0.8          0.2                              0.8   \n",
       "14   -0.1         -0.6                             -1.4   \n",
       "15    2.5        -10.9                             -1.9   \n",
       "16   -0.5         -3.3                              2.2   \n",
       "17   -0.1         -1.6                             -2.6   \n",
       "\n",
       "    American Indian and Alaska Native alone  Asian alone  \\\n",
       "0                                       NaN          NaN   \n",
       "1                                     -25.0          8.9   \n",
       "2                                     -35.7         -0.0   \n",
       "3                                     158.5          4.5   \n",
       "4                                     -46.5          2.0   \n",
       "5                                       0.4          8.8   \n",
       "6                                     107.5         -1.0   \n",
       "7                                     -20.9          2.3   \n",
       "8                                      58.1          6.4   \n",
       "9                                     -33.1          3.3   \n",
       "10                                     -2.4          6.2   \n",
       "11                                     27.9          1.8   \n",
       "12                                      1.0          5.1   \n",
       "13                                     80.2          0.9   \n",
       "14                                    -22.3          3.6   \n",
       "15                                    -21.9         13.3   \n",
       "16                                      6.4          9.0   \n",
       "17                                    -45.4         -0.9   \n",
       "\n",
       "    Native Hawaiian and Other Pacific Islander alone  Some Other Race alone  \\\n",
       "0                                                NaN                    NaN   \n",
       "1                                                inf                   17.0   \n",
       "2                                             -100.0                  -20.2   \n",
       "3                                                inf                  -14.4   \n",
       "4                                              313.7                   28.0   \n",
       "5                                              -76.3                   12.9   \n",
       "6                                               48.0                    6.5   \n",
       "7                                               41.9                   -8.0   \n",
       "8                                              181.9                   -3.7   \n",
       "9                                             -100.0                   12.8   \n",
       "10                                               inf                    4.4   \n",
       "11                                             145.7                    6.4   \n",
       "12                                             -64.9                    7.2   \n",
       "13                                             993.0                  -11.1   \n",
       "14                                             -92.9                   -5.1   \n",
       "15                                             278.2                   29.5   \n",
       "16                                              66.8                    4.2   \n",
       "17                                             -77.6                   -2.5   \n",
       "\n",
       "    Two or More Races  Two races including Some Other Race  \\\n",
       "0                 NaN                                  NaN   \n",
       "1                 8.6                                 76.7   \n",
       "2                32.7                                 -3.1   \n",
       "3                11.5                                  0.5   \n",
       "4               -14.8                                -33.7   \n",
       "5                72.9                                258.5   \n",
       "6                -6.8                                 -6.5   \n",
       "7                23.1                                 27.3   \n",
       "8                46.9                                 52.0   \n",
       "9               -17.9                                -51.0   \n",
       "10              -14.3                                  8.2   \n",
       "11                4.0                                 -8.8   \n",
       "12                4.1                                  6.7   \n",
       "13              -16.3                                -41.1   \n",
       "14               23.3                                 79.6   \n",
       "15              202.1                                675.6   \n",
       "16               -2.6                                 -2.1   \n",
       "17               16.3                                 13.8   \n",
       "\n",
       "    Two races excluding Some Other Race, and three or more races  Year  \n",
       "0                                                 NaN             2005  \n",
       "1                                               -11.8             2006  \n",
       "2                                                54.1             2007  \n",
       "3                                                15.7             2008  \n",
       "4                                                -8.6             2009  \n",
       "5                                                28.8             2010  \n",
       "6                                                -7.1             2011  \n",
       "7                                                20.3             2012  \n",
       "8                                                43.2             2013  \n",
       "9                                                 6.8             2014  \n",
       "10                                              -22.0             2015  \n",
       "11                                               10.1             2016  \n",
       "12                                                3.1             2017  \n",
       "13                                               -6.2             2018  \n",
       "14                                                8.8             2019  \n",
       "15                                                1.5             2021  \n",
       "16                                               -4.5             2022  \n",
       "17                                               24.6             2023  "
      ]
     },
     "metadata": {},
     "output_type": "display_data"
    },
    {
     "data": {
      "application/vnd.plotly.v1+json": {
       "config": {
        "plotlyServerURL": "https://plot.ly"
       },
       "data": [
        {
         "hovertemplate": "Year: %{x}<br>White alone: %{y:,}<extra></extra>",
         "line": {
          "color": "#E69F00"
         },
         "mode": "lines+markers",
         "name": "White alone",
         "type": "scatter",
         "x": {
          "bdata": "1QfWB9cH2AfZB9oH2wfcB90H3gffB+AH4QfiB+MH5QfmB+cH",
          "dtype": "i2"
         },
         "y": {
          "bdata": "AAAAAAAA+H+amZmZmZnpvzMzMzMzM+O/MzMzMzMzEUCamZmZmZnxvzMzMzMzMxHAMzMzMzMz478AAAAAAAAAAAAAAAAAAADAmpmZmZmZub8zMzMzMzPjv83MzMzMzOy/mpmZmZmZ8b+amZmZmZnJPzMzMzMzM+O/zczMzMzMJcBmZmZmZmYKwJqZmZmZmfm/",
          "dtype": "f8"
         }
        },
        {
         "hovertemplate": "Year: %{x}<br>Black or African American alone: %{y:,}<extra></extra>",
         "line": {
          "color": "#56B4E9"
         },
         "mode": "lines+markers",
         "name": "Black or African American alone",
         "type": "scatter",
         "x": {
          "bdata": "1QfWB9cH2AfZB9oH2wfcB90H3gffB+AH4QfiB+MH5QfmB+cH",
          "dtype": "i2"
         },
         "y": {
          "bdata": "AAAAAAAA+H8AAAAAAAAAQAAAAAAAAACAAAAAAAAACEBmZmZmZmYCQAAAAAAAAAzAmpmZmZmZCUBmZmZmZmb+PwAAAAAAAPC/MzMzMzMzC0AzMzMzMzMDQAAAAAAAAPi/AAAAAAAA+D+amZmZmZnpP2ZmZmZmZva/ZmZmZmZm/r+amZmZmZkBQM3MzMzMzATA",
          "dtype": "f8"
         }
        },
        {
         "hovertemplate": "Year: %{x}<br>Asian alone: %{y:,}<extra></extra>",
         "line": {
          "color": "#009E73"
         },
         "mode": "lines+markers",
         "name": "Asian alone",
         "type": "scatter",
         "x": {
          "bdata": "1QfWB9cH2AfZB9oH2wfcB90H3gffB+AH4QfiB+MH5QfmB+cH",
          "dtype": "i2"
         },
         "y": {
          "bdata": "AAAAAAAA+H/NzMzMzMwhQAAAAAAAAACAAAAAAAAAEkAAAAAAAAAAQJqZmZmZmSFAAAAAAAAA8L9mZmZmZmYCQJqZmZmZmRlAZmZmZmZmCkDNzMzMzMwYQM3MzMzMzPw/ZmZmZmZmFEDNzMzMzMzsP83MzMzMzAxAmpmZmZmZKkAAAAAAAAAiQM3MzMzMzOy/",
          "dtype": "f8"
         }
        },
        {
         "hovertemplate": "Year: %{x}<br>Two or More Races: %{y:,}<extra></extra>",
         "line": {
          "color": "#F0E442"
         },
         "mode": "lines+markers",
         "name": "Two or More Races",
         "type": "scatter",
         "x": {
          "bdata": "1QfWB9cH2AfZB9oH2wfcB90H3gffB+AH4QfiB+MH5QfmB+cH",
          "dtype": "i2"
         },
         "y": {
          "bdata": "AAAAAAAA+H8zMzMzMzMhQJqZmZmZWUBAAAAAAAAAJ0CamZmZmZktwJqZmZmZOVJAMzMzMzMzG8CamZmZmRk3QDMzMzMzc0dAZmZmZmbmMcCamZmZmZkswAAAAAAAABBAZmZmZmZmEEDNzMzMzEwwwM3MzMzMTDdAMzMzMzNDaUDNzMzMzMwEwM3MzMzMTDBA",
          "dtype": "f8"
         }
        }
       ],
       "layout": {
        "template": {
         "data": {
          "bar": [
           {
            "error_x": {
             "color": "#2a3f5f"
            },
            "error_y": {
             "color": "#2a3f5f"
            },
            "marker": {
             "line": {
              "color": "#E5ECF6",
              "width": 0.5
             },
             "pattern": {
              "fillmode": "overlay",
              "size": 10,
              "solidity": 0.2
             }
            },
            "type": "bar"
           }
          ],
          "barpolar": [
           {
            "marker": {
             "line": {
              "color": "#E5ECF6",
              "width": 0.5
             },
             "pattern": {
              "fillmode": "overlay",
              "size": 10,
              "solidity": 0.2
             }
            },
            "type": "barpolar"
           }
          ],
          "carpet": [
           {
            "aaxis": {
             "endlinecolor": "#2a3f5f",
             "gridcolor": "white",
             "linecolor": "white",
             "minorgridcolor": "white",
             "startlinecolor": "#2a3f5f"
            },
            "baxis": {
             "endlinecolor": "#2a3f5f",
             "gridcolor": "white",
             "linecolor": "white",
             "minorgridcolor": "white",
             "startlinecolor": "#2a3f5f"
            },
            "type": "carpet"
           }
          ],
          "choropleth": [
           {
            "colorbar": {
             "outlinewidth": 0,
             "ticks": ""
            },
            "type": "choropleth"
           }
          ],
          "contour": [
           {
            "colorbar": {
             "outlinewidth": 0,
             "ticks": ""
            },
            "colorscale": [
             [
              0,
              "#0d0887"
             ],
             [
              0.1111111111111111,
              "#46039f"
             ],
             [
              0.2222222222222222,
              "#7201a8"
             ],
             [
              0.3333333333333333,
              "#9c179e"
             ],
             [
              0.4444444444444444,
              "#bd3786"
             ],
             [
              0.5555555555555556,
              "#d8576b"
             ],
             [
              0.6666666666666666,
              "#ed7953"
             ],
             [
              0.7777777777777778,
              "#fb9f3a"
             ],
             [
              0.8888888888888888,
              "#fdca26"
             ],
             [
              1,
              "#f0f921"
             ]
            ],
            "type": "contour"
           }
          ],
          "contourcarpet": [
           {
            "colorbar": {
             "outlinewidth": 0,
             "ticks": ""
            },
            "type": "contourcarpet"
           }
          ],
          "heatmap": [
           {
            "colorbar": {
             "outlinewidth": 0,
             "ticks": ""
            },
            "colorscale": [
             [
              0,
              "#0d0887"
             ],
             [
              0.1111111111111111,
              "#46039f"
             ],
             [
              0.2222222222222222,
              "#7201a8"
             ],
             [
              0.3333333333333333,
              "#9c179e"
             ],
             [
              0.4444444444444444,
              "#bd3786"
             ],
             [
              0.5555555555555556,
              "#d8576b"
             ],
             [
              0.6666666666666666,
              "#ed7953"
             ],
             [
              0.7777777777777778,
              "#fb9f3a"
             ],
             [
              0.8888888888888888,
              "#fdca26"
             ],
             [
              1,
              "#f0f921"
             ]
            ],
            "type": "heatmap"
           }
          ],
          "histogram": [
           {
            "marker": {
             "pattern": {
              "fillmode": "overlay",
              "size": 10,
              "solidity": 0.2
             }
            },
            "type": "histogram"
           }
          ],
          "histogram2d": [
           {
            "colorbar": {
             "outlinewidth": 0,
             "ticks": ""
            },
            "colorscale": [
             [
              0,
              "#0d0887"
             ],
             [
              0.1111111111111111,
              "#46039f"
             ],
             [
              0.2222222222222222,
              "#7201a8"
             ],
             [
              0.3333333333333333,
              "#9c179e"
             ],
             [
              0.4444444444444444,
              "#bd3786"
             ],
             [
              0.5555555555555556,
              "#d8576b"
             ],
             [
              0.6666666666666666,
              "#ed7953"
             ],
             [
              0.7777777777777778,
              "#fb9f3a"
             ],
             [
              0.8888888888888888,
              "#fdca26"
             ],
             [
              1,
              "#f0f921"
             ]
            ],
            "type": "histogram2d"
           }
          ],
          "histogram2dcontour": [
           {
            "colorbar": {
             "outlinewidth": 0,
             "ticks": ""
            },
            "colorscale": [
             [
              0,
              "#0d0887"
             ],
             [
              0.1111111111111111,
              "#46039f"
             ],
             [
              0.2222222222222222,
              "#7201a8"
             ],
             [
              0.3333333333333333,
              "#9c179e"
             ],
             [
              0.4444444444444444,
              "#bd3786"
             ],
             [
              0.5555555555555556,
              "#d8576b"
             ],
             [
              0.6666666666666666,
              "#ed7953"
             ],
             [
              0.7777777777777778,
              "#fb9f3a"
             ],
             [
              0.8888888888888888,
              "#fdca26"
             ],
             [
              1,
              "#f0f921"
             ]
            ],
            "type": "histogram2dcontour"
           }
          ],
          "mesh3d": [
           {
            "colorbar": {
             "outlinewidth": 0,
             "ticks": ""
            },
            "type": "mesh3d"
           }
          ],
          "parcoords": [
           {
            "line": {
             "colorbar": {
              "outlinewidth": 0,
              "ticks": ""
             }
            },
            "type": "parcoords"
           }
          ],
          "pie": [
           {
            "automargin": true,
            "type": "pie"
           }
          ],
          "scatter": [
           {
            "fillpattern": {
             "fillmode": "overlay",
             "size": 10,
             "solidity": 0.2
            },
            "type": "scatter"
           }
          ],
          "scatter3d": [
           {
            "line": {
             "colorbar": {
              "outlinewidth": 0,
              "ticks": ""
             }
            },
            "marker": {
             "colorbar": {
              "outlinewidth": 0,
              "ticks": ""
             }
            },
            "type": "scatter3d"
           }
          ],
          "scattercarpet": [
           {
            "marker": {
             "colorbar": {
              "outlinewidth": 0,
              "ticks": ""
             }
            },
            "type": "scattercarpet"
           }
          ],
          "scattergeo": [
           {
            "marker": {
             "colorbar": {
              "outlinewidth": 0,
              "ticks": ""
             }
            },
            "type": "scattergeo"
           }
          ],
          "scattergl": [
           {
            "marker": {
             "colorbar": {
              "outlinewidth": 0,
              "ticks": ""
             }
            },
            "type": "scattergl"
           }
          ],
          "scattermap": [
           {
            "marker": {
             "colorbar": {
              "outlinewidth": 0,
              "ticks": ""
             }
            },
            "type": "scattermap"
           }
          ],
          "scattermapbox": [
           {
            "marker": {
             "colorbar": {
              "outlinewidth": 0,
              "ticks": ""
             }
            },
            "type": "scattermapbox"
           }
          ],
          "scatterpolar": [
           {
            "marker": {
             "colorbar": {
              "outlinewidth": 0,
              "ticks": ""
             }
            },
            "type": "scatterpolar"
           }
          ],
          "scatterpolargl": [
           {
            "marker": {
             "colorbar": {
              "outlinewidth": 0,
              "ticks": ""
             }
            },
            "type": "scatterpolargl"
           }
          ],
          "scatterternary": [
           {
            "marker": {
             "colorbar": {
              "outlinewidth": 0,
              "ticks": ""
             }
            },
            "type": "scatterternary"
           }
          ],
          "surface": [
           {
            "colorbar": {
             "outlinewidth": 0,
             "ticks": ""
            },
            "colorscale": [
             [
              0,
              "#0d0887"
             ],
             [
              0.1111111111111111,
              "#46039f"
             ],
             [
              0.2222222222222222,
              "#7201a8"
             ],
             [
              0.3333333333333333,
              "#9c179e"
             ],
             [
              0.4444444444444444,
              "#bd3786"
             ],
             [
              0.5555555555555556,
              "#d8576b"
             ],
             [
              0.6666666666666666,
              "#ed7953"
             ],
             [
              0.7777777777777778,
              "#fb9f3a"
             ],
             [
              0.8888888888888888,
              "#fdca26"
             ],
             [
              1,
              "#f0f921"
             ]
            ],
            "type": "surface"
           }
          ],
          "table": [
           {
            "cells": {
             "fill": {
              "color": "#EBF0F8"
             },
             "line": {
              "color": "white"
             }
            },
            "header": {
             "fill": {
              "color": "#C8D4E3"
             },
             "line": {
              "color": "white"
             }
            },
            "type": "table"
           }
          ]
         },
         "layout": {
          "annotationdefaults": {
           "arrowcolor": "#2a3f5f",
           "arrowhead": 0,
           "arrowwidth": 1
          },
          "autotypenumbers": "strict",
          "coloraxis": {
           "colorbar": {
            "outlinewidth": 0,
            "ticks": ""
           }
          },
          "colorscale": {
           "diverging": [
            [
             0,
             "#8e0152"
            ],
            [
             0.1,
             "#c51b7d"
            ],
            [
             0.2,
             "#de77ae"
            ],
            [
             0.3,
             "#f1b6da"
            ],
            [
             0.4,
             "#fde0ef"
            ],
            [
             0.5,
             "#f7f7f7"
            ],
            [
             0.6,
             "#e6f5d0"
            ],
            [
             0.7,
             "#b8e186"
            ],
            [
             0.8,
             "#7fbc41"
            ],
            [
             0.9,
             "#4d9221"
            ],
            [
             1,
             "#276419"
            ]
           ],
           "sequential": [
            [
             0,
             "#0d0887"
            ],
            [
             0.1111111111111111,
             "#46039f"
            ],
            [
             0.2222222222222222,
             "#7201a8"
            ],
            [
             0.3333333333333333,
             "#9c179e"
            ],
            [
             0.4444444444444444,
             "#bd3786"
            ],
            [
             0.5555555555555556,
             "#d8576b"
            ],
            [
             0.6666666666666666,
             "#ed7953"
            ],
            [
             0.7777777777777778,
             "#fb9f3a"
            ],
            [
             0.8888888888888888,
             "#fdca26"
            ],
            [
             1,
             "#f0f921"
            ]
           ],
           "sequentialminus": [
            [
             0,
             "#0d0887"
            ],
            [
             0.1111111111111111,
             "#46039f"
            ],
            [
             0.2222222222222222,
             "#7201a8"
            ],
            [
             0.3333333333333333,
             "#9c179e"
            ],
            [
             0.4444444444444444,
             "#bd3786"
            ],
            [
             0.5555555555555556,
             "#d8576b"
            ],
            [
             0.6666666666666666,
             "#ed7953"
            ],
            [
             0.7777777777777778,
             "#fb9f3a"
            ],
            [
             0.8888888888888888,
             "#fdca26"
            ],
            [
             1,
             "#f0f921"
            ]
           ]
          },
          "colorway": [
           "#636efa",
           "#EF553B",
           "#00cc96",
           "#ab63fa",
           "#FFA15A",
           "#19d3f3",
           "#FF6692",
           "#B6E880",
           "#FF97FF",
           "#FECB52"
          ],
          "font": {
           "color": "#2a3f5f"
          },
          "geo": {
           "bgcolor": "white",
           "lakecolor": "white",
           "landcolor": "#E5ECF6",
           "showlakes": true,
           "showland": true,
           "subunitcolor": "white"
          },
          "hoverlabel": {
           "align": "left"
          },
          "hovermode": "closest",
          "mapbox": {
           "style": "light"
          },
          "paper_bgcolor": "white",
          "plot_bgcolor": "#E5ECF6",
          "polar": {
           "angularaxis": {
            "gridcolor": "white",
            "linecolor": "white",
            "ticks": ""
           },
           "bgcolor": "#E5ECF6",
           "radialaxis": {
            "gridcolor": "white",
            "linecolor": "white",
            "ticks": ""
           }
          },
          "scene": {
           "xaxis": {
            "backgroundcolor": "#E5ECF6",
            "gridcolor": "white",
            "gridwidth": 2,
            "linecolor": "white",
            "showbackground": true,
            "ticks": "",
            "zerolinecolor": "white"
           },
           "yaxis": {
            "backgroundcolor": "#E5ECF6",
            "gridcolor": "white",
            "gridwidth": 2,
            "linecolor": "white",
            "showbackground": true,
            "ticks": "",
            "zerolinecolor": "white"
           },
           "zaxis": {
            "backgroundcolor": "#E5ECF6",
            "gridcolor": "white",
            "gridwidth": 2,
            "linecolor": "white",
            "showbackground": true,
            "ticks": "",
            "zerolinecolor": "white"
           }
          },
          "shapedefaults": {
           "line": {
            "color": "#2a3f5f"
           }
          },
          "ternary": {
           "aaxis": {
            "gridcolor": "white",
            "linecolor": "white",
            "ticks": ""
           },
           "baxis": {
            "gridcolor": "white",
            "linecolor": "white",
            "ticks": ""
           },
           "bgcolor": "#E5ECF6",
           "caxis": {
            "gridcolor": "white",
            "linecolor": "white",
            "ticks": ""
           }
          },
          "title": {
           "x": 0.05
          },
          "xaxis": {
           "automargin": true,
           "gridcolor": "white",
           "linecolor": "white",
           "ticks": "",
           "title": {
            "standoff": 15
           },
           "zerolinecolor": "white",
           "zerolinewidth": 2
          },
          "yaxis": {
           "automargin": true,
           "gridcolor": "white",
           "linecolor": "white",
           "ticks": "",
           "title": {
            "standoff": 15
           },
           "zerolinecolor": "white",
           "zerolinewidth": 2
          }
         }
        },
        "title": {
         "text": "Percent Change in Population by Race<br>Nassau County, NY"
        },
        "xaxis": {
         "tickmode": "array",
         "ticktext": [
          "2005",
          "2006",
          "2007",
          "2008",
          "2009",
          "2010",
          "2011",
          "2012",
          "2013",
          "2014",
          "2015",
          "2016",
          "2017",
          "2018",
          "2019",
          "2021",
          "2022",
          "2023"
         ],
         "tickvals": {
          "bdata": "1QfWB9cH2AfZB9oH2wfcB90H3gffB+AH4QfiB+MH5QfmB+cH",
          "dtype": "i2"
         },
         "title": {
          "text": "Year"
         }
        },
        "yaxis": {
         "title": {
          "text": "Percent"
         }
        }
       }
      },
      "image/png": "[encoded data removed]"
     },
     "metadata": {},
     "output_type": "display_data"
    }
   ],
   "source": [
    "from IPython.display import display\n",
    "\n",
    "from censusdis.multiyear import pct_change_multiyear\n",
    "\n",
    "df_pct_change = pct_change_multiyear(df)\n",
    "display(df_pct_change)\n",
    "\n",
    "graph_multiyear(\n",
    "    df_pct_change,\n",
    "    title=\"Percent Change in Population by Race<br>Nassau County, NY\",\n",
    "    yaxis_title=\"Percent\",\n",
    "    y_cols=[\n",
    "        \"White alone\",\n",
    "        \"Black or African American alone\",\n",
    "        \"Asian alone\",\n",
    "        \"Two or More Races\",\n",
    "    ],\n",
    ")"
   ]
  },
  {
   "cell_type": "markdown",
   "metadata": {},
   "source": [
    "Here we get a new appreciation for the magnitude of the change in the population of people who identify as \"Two or More Races\".\n",
    "\n",
    "# download_variables\n",
    "\n",
    "Sometimes it is useful to get a single variable (as opposed to an entire table) over multiple years. An example is if the table has a large number of columns, or the number of columns has changed over the years. An example is B05006: Place of Birth for the Foreign-born Population in the United States.\n",
    "\n",
    "At the time of this writing the most recent data is from 2023 ([link](https://api.census.gov/data/2023/acs/acs1/groups/B05006.html)) and we can see that `China` has variable `B05006_049E`. Here's what happens if we try to get data on that variable for all available years:"
   ]
  },
  {
   "cell_type": "code",
   "execution_count": 4,
   "metadata": {},
   "outputs": [
    {
     "name": "stdout",
     "output_type": "stream",
     "text": [
      "..................Warning: B05006_049E has had multiple labels over the selected years:\n",
      "\t'estimate!!total!!asia!!south central asia!!other south central asia' in [2005, 2006, 2007, 2008]\n",
      "\t'estimate!!total!!asia!!eastern asia!!china' in [2009, 2010, 2011, 2013, 2014, 2015, 2016, 2017, 2018, 2019, 2021, 2022, 2023]\n",
      "\t'estimate!!total!!asia!!eastern asia!!china!!china, excluding hong kong and taiwan' in [2012]\n"
     ]
    }
   ],
   "source": [
    "df = download_multiyear(\n",
    "    dataset=ACS1,\n",
    "    vintages=vintages,\n",
    "    download_variables=\"B05006_049E\",\n",
    "    state=NY,\n",
    "    county=NASSAU,\n",
    "    prompt=False,\n",
    ")"
   ]
  },
  {
   "cell_type": "markdown",
   "metadata": {},
   "source": [
    "The warning means that the same variable (B05006_049E) had different labels over the years. In this case the labels include completely different places, and so treating the variable as a true time series would be a mistake.\n",
    "\n",
    "The easiest way I know to find a label for different years is to search the API page for the table. \n",
    "\n",
    " * For 2005-2008 visit https://api.census.gov/data/2005/acs/acs1/groups/B05006.html. Searching for \"China\" reveals it has variable `B05006_036E`. \n",
    " * For 2012 visit https://api.census.gov/data/2012/acs/acs1/groups/B05006.html. Searching for \"China\" reveals it has variable `B05006_048E`.\n",
    "\n",
    " With this in mind we can splice the data together like this:"
   ]
  },
  {
   "cell_type": "code",
   "execution_count": 5,
   "metadata": {},
   "outputs": [
    {
     "name": "stdout",
     "output_type": "stream",
     "text": [
      ".................."
     ]
    },
    {
     "data": {
      "text/html": [
       "<div>\n",
       "<style scoped>\n",
       "    .dataframe tbody tr th:only-of-type {\n",
       "        vertical-align: middle;\n",
       "    }\n",
       "\n",
       "    .dataframe tbody tr th {\n",
       "        vertical-align: top;\n",
       "    }\n",
       "\n",
       "    .dataframe thead th {\n",
       "        text-align: right;\n",
       "    }\n",
       "</style>\n",
       "<table border=\"1\" class=\"dataframe\">\n",
       "  <thead>\n",
       "    <tr style=\"text-align: right;\">\n",
       "      <th></th>\n",
       "      <th>China</th>\n",
       "      <th>Year</th>\n",
       "    </tr>\n",
       "  </thead>\n",
       "  <tbody>\n",
       "    <tr>\n",
       "      <th>0</th>\n",
       "      <td>11069.0</td>\n",
       "      <td>2005</td>\n",
       "    </tr>\n",
       "    <tr>\n",
       "      <th>1</th>\n",
       "      <td>10495.0</td>\n",
       "      <td>2006</td>\n",
       "    </tr>\n",
       "    <tr>\n",
       "      <th>2</th>\n",
       "      <td>9878.0</td>\n",
       "      <td>2007</td>\n",
       "    </tr>\n",
       "    <tr>\n",
       "      <th>3</th>\n",
       "      <td>16814.0</td>\n",
       "      <td>2008</td>\n",
       "    </tr>\n",
       "    <tr>\n",
       "      <th>0</th>\n",
       "      <td>13783.0</td>\n",
       "      <td>2009</td>\n",
       "    </tr>\n",
       "    <tr>\n",
       "      <th>1</th>\n",
       "      <td>13043.0</td>\n",
       "      <td>2010</td>\n",
       "    </tr>\n",
       "    <tr>\n",
       "      <th>2</th>\n",
       "      <td>14456.0</td>\n",
       "      <td>2011</td>\n",
       "    </tr>\n",
       "    <tr>\n",
       "      <th>0</th>\n",
       "      <td>18878.0</td>\n",
       "      <td>2012</td>\n",
       "    </tr>\n",
       "    <tr>\n",
       "      <th>3</th>\n",
       "      <td>14648.0</td>\n",
       "      <td>2013</td>\n",
       "    </tr>\n",
       "    <tr>\n",
       "      <th>4</th>\n",
       "      <td>22539.0</td>\n",
       "      <td>2014</td>\n",
       "    </tr>\n",
       "    <tr>\n",
       "      <th>5</th>\n",
       "      <td>18596.0</td>\n",
       "      <td>2015</td>\n",
       "    </tr>\n",
       "    <tr>\n",
       "      <th>6</th>\n",
       "      <td>21124.0</td>\n",
       "      <td>2016</td>\n",
       "    </tr>\n",
       "    <tr>\n",
       "      <th>7</th>\n",
       "      <td>23848.0</td>\n",
       "      <td>2017</td>\n",
       "    </tr>\n",
       "    <tr>\n",
       "      <th>8</th>\n",
       "      <td>26433.0</td>\n",
       "      <td>2018</td>\n",
       "    </tr>\n",
       "    <tr>\n",
       "      <th>9</th>\n",
       "      <td>25012.0</td>\n",
       "      <td>2019</td>\n",
       "    </tr>\n",
       "    <tr>\n",
       "      <th>10</th>\n",
       "      <td>27676.0</td>\n",
       "      <td>2021</td>\n",
       "    </tr>\n",
       "    <tr>\n",
       "      <th>11</th>\n",
       "      <td>NaN</td>\n",
       "      <td>2022</td>\n",
       "    </tr>\n",
       "    <tr>\n",
       "      <th>12</th>\n",
       "      <td>26611.0</td>\n",
       "      <td>2023</td>\n",
       "    </tr>\n",
       "  </tbody>\n",
       "</table>\n",
       "</div>"
      ],
      "text/plain": [
       "      China  Year\n",
       "0   11069.0  2005\n",
       "1   10495.0  2006\n",
       "2    9878.0  2007\n",
       "3   16814.0  2008\n",
       "0   13783.0  2009\n",
       "1   13043.0  2010\n",
       "2   14456.0  2011\n",
       "0   18878.0  2012\n",
       "3   14648.0  2013\n",
       "4   22539.0  2014\n",
       "5   18596.0  2015\n",
       "6   21124.0  2016\n",
       "7   23848.0  2017\n",
       "8   26433.0  2018\n",
       "9   25012.0  2019\n",
       "10  27676.0  2021\n",
       "11      NaN  2022\n",
       "12  26611.0  2023"
      ]
     },
     "metadata": {},
     "output_type": "display_data"
    },
    {
     "data": {
      "application/vnd.plotly.v1+json": {
       "config": {
        "plotlyServerURL": "https://plot.ly"
       },
       "data": [
        {
         "hovertemplate": "Year: %{x}<br>China: %{y:,}<extra></extra>",
         "line": {
          "color": "#E69F00"
         },
         "mode": "lines+markers",
         "name": "China",
         "type": "scatter",
         "x": {
          "bdata": "1QfWB9cH2AfZB9oH2wfcB90H3gffB+AH4QfiB+MH5QfmB+cH",
          "dtype": "i2"
         },
         "y": {
          "bdata": "AAAAAICexUAAAAAAgH/EQAAAAAAAS8NAAAAAAIBr0EAAAAAAgOvKQAAAAACAeclAAAAAAAA8zEAAAAAAgG/SQAAAAAAAnMxAAAAAAMAC1kAAAAAAACnSQAAAAAAAodRAAAAAAABK10AAAAAAQNDZQAAAAAAAbdhAAAAAAAAH20AAAAAAAAD4fwAAAADA/NlA",
          "dtype": "f8"
         }
        }
       ],
       "layout": {
        "template": {
         "data": {
          "bar": [
           {
            "error_x": {
             "color": "#2a3f5f"
            },
            "error_y": {
             "color": "#2a3f5f"
            },
            "marker": {
             "line": {
              "color": "#E5ECF6",
              "width": 0.5
             },
             "pattern": {
              "fillmode": "overlay",
              "size": 10,
              "solidity": 0.2
             }
            },
            "type": "bar"
           }
          ],
          "barpolar": [
           {
            "marker": {
             "line": {
              "color": "#E5ECF6",
              "width": 0.5
             },
             "pattern": {
              "fillmode": "overlay",
              "size": 10,
              "solidity": 0.2
             }
            },
            "type": "barpolar"
           }
          ],
          "carpet": [
           {
            "aaxis": {
             "endlinecolor": "#2a3f5f",
             "gridcolor": "white",
             "linecolor": "white",
             "minorgridcolor": "white",
             "startlinecolor": "#2a3f5f"
            },
            "baxis": {
             "endlinecolor": "#2a3f5f",
             "gridcolor": "white",
             "linecolor": "white",
             "minorgridcolor": "white",
             "startlinecolor": "#2a3f5f"
            },
            "type": "carpet"
           }
          ],
          "choropleth": [
           {
            "colorbar": {
             "outlinewidth": 0,
             "ticks": ""
            },
            "type": "choropleth"
           }
          ],
          "contour": [
           {
            "colorbar": {
             "outlinewidth": 0,
             "ticks": ""
            },
            "colorscale": [
             [
              0,
              "#0d0887"
             ],
             [
              0.1111111111111111,
              "#46039f"
             ],
             [
              0.2222222222222222,
              "#7201a8"
             ],
             [
              0.3333333333333333,
              "#9c179e"
             ],
             [
              0.4444444444444444,
              "#bd3786"
             ],
             [
              0.5555555555555556,
              "#d8576b"
             ],
             [
              0.6666666666666666,
              "#ed7953"
             ],
             [
              0.7777777777777778,
              "#fb9f3a"
             ],
             [
              0.8888888888888888,
              "#fdca26"
             ],
             [
              1,
              "#f0f921"
             ]
            ],
            "type": "contour"
           }
          ],
          "contourcarpet": [
           {
            "colorbar": {
             "outlinewidth": 0,
             "ticks": ""
            },
            "type": "contourcarpet"
           }
          ],
          "heatmap": [
           {
            "colorbar": {
             "outlinewidth": 0,
             "ticks": ""
            },
            "colorscale": [
             [
              0,
              "#0d0887"
             ],
             [
              0.1111111111111111,
              "#46039f"
             ],
             [
              0.2222222222222222,
              "#7201a8"
             ],
             [
              0.3333333333333333,
              "#9c179e"
             ],
             [
              0.4444444444444444,
              "#bd3786"
             ],
             [
              0.5555555555555556,
              "#d8576b"
             ],
             [
              0.6666666666666666,
              "#ed7953"
             ],
             [
              0.7777777777777778,
              "#fb9f3a"
             ],
             [
              0.8888888888888888,
              "#fdca26"
             ],
             [
              1,
              "#f0f921"
             ]
            ],
            "type": "heatmap"
           }
          ],
          "histogram": [
           {
            "marker": {
             "pattern": {
              "fillmode": "overlay",
              "size": 10,
              "solidity": 0.2
             }
            },
            "type": "histogram"
           }
          ],
          "histogram2d": [
           {
            "colorbar": {
             "outlinewidth": 0,
             "ticks": ""
            },
            "colorscale": [
             [
              0,
              "#0d0887"
             ],
             [
              0.1111111111111111,
              "#46039f"
             ],
             [
              0.2222222222222222,
              "#7201a8"
             ],
             [
              0.3333333333333333,
              "#9c179e"
             ],
             [
              0.4444444444444444,
              "#bd3786"
             ],
             [
              0.5555555555555556,
              "#d8576b"
             ],
             [
              0.6666666666666666,
              "#ed7953"
             ],
             [
              0.7777777777777778,
              "#fb9f3a"
             ],
             [
              0.8888888888888888,
              "#fdca26"
             ],
             [
              1,
              "#f0f921"
             ]
            ],
            "type": "histogram2d"
           }
          ],
          "histogram2dcontour": [
           {
            "colorbar": {
             "outlinewidth": 0,
             "ticks": ""
            },
            "colorscale": [
             [
              0,
              "#0d0887"
             ],
             [
              0.1111111111111111,
              "#46039f"
             ],
             [
              0.2222222222222222,
              "#7201a8"
             ],
             [
              0.3333333333333333,
              "#9c179e"
             ],
             [
              0.4444444444444444,
              "#bd3786"
             ],
             [
              0.5555555555555556,
              "#d8576b"
             ],
             [
              0.6666666666666666,
              "#ed7953"
             ],
             [
              0.7777777777777778,
              "#fb9f3a"
             ],
             [
              0.8888888888888888,
              "#fdca26"
             ],
             [
              1,
              "#f0f921"
             ]
            ],
            "type": "histogram2dcontour"
           }
          ],
          "mesh3d": [
           {
            "colorbar": {
             "outlinewidth": 0,
             "ticks": ""
            },
            "type": "mesh3d"
           }
          ],
          "parcoords": [
           {
            "line": {
             "colorbar": {
              "outlinewidth": 0,
              "ticks": ""
             }
            },
            "type": "parcoords"
           }
          ],
          "pie": [
           {
            "automargin": true,
            "type": "pie"
           }
          ],
          "scatter": [
           {
            "fillpattern": {
             "fillmode": "overlay",
             "size": 10,
             "solidity": 0.2
            },
            "type": "scatter"
           }
          ],
          "scatter3d": [
           {
            "line": {
             "colorbar": {
              "outlinewidth": 0,
              "ticks": ""
             }
            },
            "marker": {
             "colorbar": {
              "outlinewidth": 0,
              "ticks": ""
             }
            },
            "type": "scatter3d"
           }
          ],
          "scattercarpet": [
           {
            "marker": {
             "colorbar": {
              "outlinewidth": 0,
              "ticks": ""
             }
            },
            "type": "scattercarpet"
           }
          ],
          "scattergeo": [
           {
            "marker": {
             "colorbar": {
              "outlinewidth": 0,
              "ticks": ""
             }
            },
            "type": "scattergeo"
           }
          ],
          "scattergl": [
           {
            "marker": {
             "colorbar": {
              "outlinewidth": 0,
              "ticks": ""
             }
            },
            "type": "scattergl"
           }
          ],
          "scattermap": [
           {
            "marker": {
             "colorbar": {
              "outlinewidth": 0,
              "ticks": ""
             }
            },
            "type": "scattermap"
           }
          ],
          "scattermapbox": [
           {
            "marker": {
             "colorbar": {
              "outlinewidth": 0,
              "ticks": ""
             }
            },
            "type": "scattermapbox"
           }
          ],
          "scatterpolar": [
           {
            "marker": {
             "colorbar": {
              "outlinewidth": 0,
              "ticks": ""
             }
            },
            "type": "scatterpolar"
           }
          ],
          "scatterpolargl": [
           {
            "marker": {
             "colorbar": {
              "outlinewidth": 0,
              "ticks": ""
             }
            },
            "type": "scatterpolargl"
           }
          ],
          "scatterternary": [
           {
            "marker": {
             "colorbar": {
              "outlinewidth": 0,
              "ticks": ""
             }
            },
            "type": "scatterternary"
           }
          ],
          "surface": [
           {
            "colorbar": {
             "outlinewidth": 0,
             "ticks": ""
            },
            "colorscale": [
             [
              0,
              "#0d0887"
             ],
             [
              0.1111111111111111,
              "#46039f"
             ],
             [
              0.2222222222222222,
              "#7201a8"
             ],
             [
              0.3333333333333333,
              "#9c179e"
             ],
             [
              0.4444444444444444,
              "#bd3786"
             ],
             [
              0.5555555555555556,
              "#d8576b"
             ],
             [
              0.6666666666666666,
              "#ed7953"
             ],
             [
              0.7777777777777778,
              "#fb9f3a"
             ],
             [
              0.8888888888888888,
              "#fdca26"
             ],
             [
              1,
              "#f0f921"
             ]
            ],
            "type": "surface"
           }
          ],
          "table": [
           {
            "cells": {
             "fill": {
              "color": "#EBF0F8"
             },
             "line": {
              "color": "white"
             }
            },
            "header": {
             "fill": {
              "color": "#C8D4E3"
             },
             "line": {
              "color": "white"
             }
            },
            "type": "table"
           }
          ]
         },
         "layout": {
          "annotationdefaults": {
           "arrowcolor": "#2a3f5f",
           "arrowhead": 0,
           "arrowwidth": 1
          },
          "autotypenumbers": "strict",
          "coloraxis": {
           "colorbar": {
            "outlinewidth": 0,
            "ticks": ""
           }
          },
          "colorscale": {
           "diverging": [
            [
             0,
             "#8e0152"
            ],
            [
             0.1,
             "#c51b7d"
            ],
            [
             0.2,
             "#de77ae"
            ],
            [
             0.3,
             "#f1b6da"
            ],
            [
             0.4,
             "#fde0ef"
            ],
            [
             0.5,
             "#f7f7f7"
            ],
            [
             0.6,
             "#e6f5d0"
            ],
            [
             0.7,
             "#b8e186"
            ],
            [
             0.8,
             "#7fbc41"
            ],
            [
             0.9,
             "#4d9221"
            ],
            [
             1,
             "#276419"
            ]
           ],
           "sequential": [
            [
             0,
             "#0d0887"
            ],
            [
             0.1111111111111111,
             "#46039f"
            ],
            [
             0.2222222222222222,
             "#7201a8"
            ],
            [
             0.3333333333333333,
             "#9c179e"
            ],
            [
             0.4444444444444444,
             "#bd3786"
            ],
            [
             0.5555555555555556,
             "#d8576b"
            ],
            [
             0.6666666666666666,
             "#ed7953"
            ],
            [
             0.7777777777777778,
             "#fb9f3a"
            ],
            [
             0.8888888888888888,
             "#fdca26"
            ],
            [
             1,
             "#f0f921"
            ]
           ],
           "sequentialminus": [
            [
             0,
             "#0d0887"
            ],
            [
             0.1111111111111111,
             "#46039f"
            ],
            [
             0.2222222222222222,
             "#7201a8"
            ],
            [
             0.3333333333333333,
             "#9c179e"
            ],
            [
             0.4444444444444444,
             "#bd3786"
            ],
            [
             0.5555555555555556,
             "#d8576b"
            ],
            [
             0.6666666666666666,
             "#ed7953"
            ],
            [
             0.7777777777777778,
             "#fb9f3a"
            ],
            [
             0.8888888888888888,
             "#fdca26"
            ],
            [
             1,
             "#f0f921"
            ]
           ]
          },
          "colorway": [
           "#636efa",
           "#EF553B",
           "#00cc96",
           "#ab63fa",
           "#FFA15A",
           "#19d3f3",
           "#FF6692",
           "#B6E880",
           "#FF97FF",
           "#FECB52"
          ],
          "font": {
           "color": "#2a3f5f"
          },
          "geo": {
           "bgcolor": "white",
           "lakecolor": "white",
           "landcolor": "#E5ECF6",
           "showlakes": true,
           "showland": true,
           "subunitcolor": "white"
          },
          "hoverlabel": {
           "align": "left"
          },
          "hovermode": "closest",
          "mapbox": {
           "style": "light"
          },
          "paper_bgcolor": "white",
          "plot_bgcolor": "#E5ECF6",
          "polar": {
           "angularaxis": {
            "gridcolor": "white",
            "linecolor": "white",
            "ticks": ""
           },
           "bgcolor": "#E5ECF6",
           "radialaxis": {
            "gridcolor": "white",
            "linecolor": "white",
            "ticks": ""
           }
          },
          "scene": {
           "xaxis": {
            "backgroundcolor": "#E5ECF6",
            "gridcolor": "white",
            "gridwidth": 2,
            "linecolor": "white",
            "showbackground": true,
            "ticks": "",
            "zerolinecolor": "white"
           },
           "yaxis": {
            "backgroundcolor": "#E5ECF6",
            "gridcolor": "white",
            "gridwidth": 2,
            "linecolor": "white",
            "showbackground": true,
            "ticks": "",
            "zerolinecolor": "white"
           },
           "zaxis": {
            "backgroundcolor": "#E5ECF6",
            "gridcolor": "white",
            "gridwidth": 2,
            "linecolor": "white",
            "showbackground": true,
            "ticks": "",
            "zerolinecolor": "white"
           }
          },
          "shapedefaults": {
           "line": {
            "color": "#2a3f5f"
           }
          },
          "ternary": {
           "aaxis": {
            "gridcolor": "white",
            "linecolor": "white",
            "ticks": ""
           },
           "baxis": {
            "gridcolor": "white",
            "linecolor": "white",
            "ticks": ""
           },
           "bgcolor": "#E5ECF6",
           "caxis": {
            "gridcolor": "white",
            "linecolor": "white",
            "ticks": ""
           }
          },
          "title": {
           "x": 0.05
          },
          "xaxis": {
           "automargin": true,
           "gridcolor": "white",
           "linecolor": "white",
           "ticks": "",
           "title": {
            "standoff": 15
           },
           "zerolinecolor": "white",
           "zerolinewidth": 2
          },
          "yaxis": {
           "automargin": true,
           "gridcolor": "white",
           "linecolor": "white",
           "ticks": "",
           "title": {
            "standoff": 15
           },
           "zerolinecolor": "white",
           "zerolinewidth": 2
          }
         }
        },
        "title": {
         "text": "Population Born in China<br>Nassau County, NY"
        },
        "xaxis": {
         "tickmode": "array",
         "ticktext": [
          "2005",
          "2006",
          "2007",
          "2008",
          "2009",
          "2010",
          "2011",
          "2012",
          "2013",
          "2014",
          "2015",
          "2016",
          "2017",
          "2018",
          "2019",
          "2021",
          "2022",
          "2023"
         ],
         "tickvals": {
          "bdata": "1QfWB9cH2AfZB9oH2wfcB90H3gffB+AH4QfiB+MH5QfmB+cH",
          "dtype": "i2"
         },
         "title": {
          "text": "Year"
         }
        },
        "yaxis": {
         "title": {
          "text": "Population"
         }
        }
       }
      },
      "image/png": "[encoded data removed]"
     },
     "metadata": {},
     "output_type": "display_data"
    }
   ],
   "source": [
    "import pandas as pd\n",
    "\n",
    "vintages1 = list(range(2005, 2009))\n",
    "df1 = download_multiyear(\n",
    "    dataset=ACS1,\n",
    "    vintages=vintages1,\n",
    "    download_variables=\"B05006_036E\",\n",
    "    state=NY,\n",
    "    county=NASSAU,\n",
    ")\n",
    "\n",
    "# Skip 2012 (it had a different label) and 2020 (it was not published due to covid)\n",
    "vintages2 = [year for year in range(2009, 2024) if year not in [2012, 2020]]\n",
    "df2 = download_multiyear(\n",
    "    dataset=ACS1,\n",
    "    vintages=vintages2,\n",
    "    download_variables=\"B05006_049E\",\n",
    "    state=NY,\n",
    "    county=NASSAU,\n",
    ")\n",
    "\n",
    "vintages3 = [2012]\n",
    "df3 = download_multiyear(\n",
    "    dataset=ACS1,\n",
    "    vintages=vintages3,\n",
    "    download_variables=\"B05006_048E\",\n",
    "    state=NY,\n",
    "    county=NASSAU,\n",
    ")\n",
    "\n",
    "df_china = pd.concat([df1, df2, df3]).sort_values(\"Year\")\n",
    "display(df_china)\n",
    "\n",
    "graph_multiyear(df_china, \"Population Born in China<br>Nassau County, NY\", \"Population\")"
   ]
  }
 ],
 "metadata": {
  "kernelspec": {
   "display_name": "censusdis-oxL3TahA-py3.12",
   "language": "python",
   "name": "python3"
  },
  "language_info": {
   "codemirror_mode": {
    "name": "ipython",
    "version": 3
   },
   "file_extension": ".py",
   "mimetype": "text/x-python",
   "name": "python",
   "nbconvert_exporter": "python",
   "pygments_lexer": "ipython3",
   "version": "3.12.0"
  }
 },
 "nbformat": 4,
 "nbformat_minor": 2
}
